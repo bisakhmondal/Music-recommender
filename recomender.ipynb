{
  "nbformat": 4,
  "nbformat_minor": 0,
  "metadata": {
    "colab": {
      "name": "Untitled6.ipynb",
      "provenance": [],
      "collapsed_sections": [],
      "toc_visible": true
    },
    "kernelspec": {
      "name": "python3",
      "display_name": "Python 3"
    }
  },
  "cells": [
    {
      "cell_type": "code",
      "metadata": {
        "id": "wPR59Rcepk32",
        "colab_type": "code",
        "colab": {}
      },
      "source": [
        "import numpy as np\n",
        "import pandas as pd\n",
        "import turicreate as tc"
      ],
      "execution_count": 0,
      "outputs": []
    },
    {
      "cell_type": "code",
      "metadata": {
        "id": "cV1dWMjOa4b-",
        "colab_type": "code",
        "colab": {}
      },
      "source": [
        "!pip install turicreate"
      ],
      "execution_count": 0,
      "outputs": []
    },
    {
      "cell_type": "code",
      "metadata": {
        "id": "xpAeHditbJxf",
        "colab_type": "code",
        "colab": {}
      },
      "source": [
        "! cd /content/GraphLab-Create-2.1 && mkdir build && cd build"
      ],
      "execution_count": 0,
      "outputs": []
    },
    {
      "cell_type": "code",
      "metadata": {
        "id": "HlHkiOXArEm9",
        "colab_type": "code",
        "colab": {}
      },
      "source": [
        "triplet=\"https://static.turi.com/datasets/millionsong/10000.txt\"\n",
        "metadata=\"https://static.turi.com/datasets/millionsong/song_data.csv\""
      ],
      "execution_count": 0,
      "outputs": []
    },
    {
      "cell_type": "code",
      "metadata": {
        "id": "dkD-0v0ndYW9",
        "colab_type": "code",
        "colab": {}
      },
      "source": [
        ""
      ],
      "execution_count": 0,
      "outputs": []
    },
    {
      "cell_type": "code",
      "metadata": {
        "id": "rcwhZzHLreSx",
        "colab_type": "code",
        "colab": {}
      },
      "source": [
        "tab1=pd.read_table(triplet,header=None)\n",
        "tab1.columns=['user_id','song_id','listen_time']"
      ],
      "execution_count": 0,
      "outputs": []
    },
    {
      "cell_type": "code",
      "metadata": {
        "id": "O1IT0vHFr9Fv",
        "colab_type": "code",
        "colab": {}
      },
      "source": [
        "tab2=pd.read_csv(metadata)"
      ],
      "execution_count": 0,
      "outputs": []
    },
    {
      "cell_type": "code",
      "metadata": {
        "id": "WC3Jl8-SsB_e",
        "colab_type": "code",
        "colab": {
          "base_uri": "https://localhost:8080/",
          "height": 34
        },
        "outputId": "41f00534-b4f3-43f4-ccfb-eba2e3014386"
      },
      "source": [
        "tab2.columns"
      ],
      "execution_count": 25,
      "outputs": [
        {
          "output_type": "execute_result",
          "data": {
            "text/plain": [
              "Index(['song_id', 'title', 'release', 'artist_name', 'year'], dtype='object')"
            ]
          },
          "metadata": {
            "tags": []
          },
          "execution_count": 25
        }
      ]
    },
    {
      "cell_type": "code",
      "metadata": {
        "id": "kc3Rt0H6siC1",
        "colab_type": "code",
        "colab": {}
      },
      "source": [
        "mTab2=tab2.drop_duplicates(['song_id'])"
      ],
      "execution_count": 0,
      "outputs": []
    },
    {
      "cell_type": "code",
      "metadata": {
        "id": "d0JSG2pvtElj",
        "colab_type": "code",
        "colab": {}
      },
      "source": [
        "newTab=pd.merge(tab1,mTab2,on='song_id',how=\"left\")"
      ],
      "execution_count": 0,
      "outputs": []
    },
    {
      "cell_type": "code",
      "metadata": {
        "id": "Eurng9qQd545",
        "colab_type": "code",
        "colab": {}
      },
      "source": [
        "newTab['song']=newTab['title'].str.cat(newTab['artist_name'],sep=\" - \")\n",
        "df=newTab.drop(labels=['title','artist_name'],axis=1)"
      ],
      "execution_count": 0,
      "outputs": []
    },
    {
      "cell_type": "code",
      "metadata": {
        "id": "gWQqdCcMe4ee",
        "colab_type": "code",
        "colab": {
          "base_uri": "https://localhost:8080/",
          "height": 306
        },
        "outputId": "48408062-6b32-4c26-8e5d-5d69a04b27db"
      },
      "source": [
        "df.head()"
      ],
      "execution_count": 77,
      "outputs": [
        {
          "output_type": "execute_result",
          "data": {
            "text/html": [
              "<div>\n",
              "<style scoped>\n",
              "    .dataframe tbody tr th:only-of-type {\n",
              "        vertical-align: middle;\n",
              "    }\n",
              "\n",
              "    .dataframe tbody tr th {\n",
              "        vertical-align: top;\n",
              "    }\n",
              "\n",
              "    .dataframe thead th {\n",
              "        text-align: right;\n",
              "    }\n",
              "</style>\n",
              "<table border=\"1\" class=\"dataframe\">\n",
              "  <thead>\n",
              "    <tr style=\"text-align: right;\">\n",
              "      <th></th>\n",
              "      <th>user_id</th>\n",
              "      <th>song_id</th>\n",
              "      <th>listen_time</th>\n",
              "      <th>release</th>\n",
              "      <th>year</th>\n",
              "      <th>song</th>\n",
              "    </tr>\n",
              "  </thead>\n",
              "  <tbody>\n",
              "    <tr>\n",
              "      <th>0</th>\n",
              "      <td>b80344d063b5ccb3212f76538f3d9e43d87dca9e</td>\n",
              "      <td>SOAKIMP12A8C130995</td>\n",
              "      <td>1</td>\n",
              "      <td>Thicker Than Water</td>\n",
              "      <td>0</td>\n",
              "      <td>The Cove - Jack Johnson</td>\n",
              "    </tr>\n",
              "    <tr>\n",
              "      <th>1</th>\n",
              "      <td>b80344d063b5ccb3212f76538f3d9e43d87dca9e</td>\n",
              "      <td>SOBBMDR12A8C13253B</td>\n",
              "      <td>2</td>\n",
              "      <td>Flamenco Para Niños</td>\n",
              "      <td>1976</td>\n",
              "      <td>Entre Dos Aguas - Paco De Lucia</td>\n",
              "    </tr>\n",
              "    <tr>\n",
              "      <th>2</th>\n",
              "      <td>b80344d063b5ccb3212f76538f3d9e43d87dca9e</td>\n",
              "      <td>SOBXHDL12A81C204C0</td>\n",
              "      <td>1</td>\n",
              "      <td>Graduation</td>\n",
              "      <td>2007</td>\n",
              "      <td>Stronger - Kanye West</td>\n",
              "    </tr>\n",
              "    <tr>\n",
              "      <th>3</th>\n",
              "      <td>b80344d063b5ccb3212f76538f3d9e43d87dca9e</td>\n",
              "      <td>SOBYHAJ12A6701BF1D</td>\n",
              "      <td>1</td>\n",
              "      <td>In Between Dreams</td>\n",
              "      <td>2005</td>\n",
              "      <td>Constellations - Jack Johnson</td>\n",
              "    </tr>\n",
              "    <tr>\n",
              "      <th>4</th>\n",
              "      <td>b80344d063b5ccb3212f76538f3d9e43d87dca9e</td>\n",
              "      <td>SODACBL12A8C13C273</td>\n",
              "      <td>1</td>\n",
              "      <td>There Is Nothing Left To Lose</td>\n",
              "      <td>1999</td>\n",
              "      <td>Learn To Fly - Foo Fighters</td>\n",
              "    </tr>\n",
              "  </tbody>\n",
              "</table>\n",
              "</div>"
            ],
            "text/plain": [
              "                                    user_id  ...                             song\n",
              "0  b80344d063b5ccb3212f76538f3d9e43d87dca9e  ...          The Cove - Jack Johnson\n",
              "1  b80344d063b5ccb3212f76538f3d9e43d87dca9e  ...  Entre Dos Aguas - Paco De Lucia\n",
              "2  b80344d063b5ccb3212f76538f3d9e43d87dca9e  ...            Stronger - Kanye West\n",
              "3  b80344d063b5ccb3212f76538f3d9e43d87dca9e  ...    Constellations - Jack Johnson\n",
              "4  b80344d063b5ccb3212f76538f3d9e43d87dca9e  ...      Learn To Fly - Foo Fighters\n",
              "\n",
              "[5 rows x 6 columns]"
            ]
          },
          "metadata": {
            "tags": []
          },
          "execution_count": 77
        }
      ]
    },
    {
      "cell_type": "code",
      "metadata": {
        "id": "gYyxLUUy5bvW",
        "colab_type": "code",
        "colab": {}
      },
      "source": [
        "newDf=tc.SFrame(df)\n",
        "newDf.show()"
      ],
      "execution_count": 0,
      "outputs": []
    },
    {
      "cell_type": "code",
      "metadata": {
        "id": "_63dOU4S50b-",
        "colab_type": "code",
        "colab": {
          "base_uri": "https://localhost:8080/",
          "height": 34
        },
        "outputId": "0ff21f17-258a-4399-d23e-776f8cf840f5"
      },
      "source": [
        "users=newDf['user_id'].unique()\n",
        "len(users)"
      ],
      "execution_count": 82,
      "outputs": [
        {
          "output_type": "execute_result",
          "data": {
            "text/plain": [
              "76353"
            ]
          },
          "metadata": {
            "tags": []
          },
          "execution_count": 82
        }
      ]
    },
    {
      "cell_type": "code",
      "metadata": {
        "id": "rMStsHQL6DJH",
        "colab_type": "code",
        "colab": {}
      },
      "source": [
        "train,test=newDf.random_split(0.8,seed=5449)"
      ],
      "execution_count": 0,
      "outputs": []
    },
    {
      "cell_type": "code",
      "metadata": {
        "id": "-bv2DJ2UhTAs",
        "colab_type": "code",
        "colab": {
          "base_uri": "https://localhost:8080/",
          "height": 136
        },
        "outputId": "a501f6a8-37d8-4f68-8cf5-bb7c0f0f564f"
      },
      "source": [
        "model=tc.popularity_recommender.create(train,user_id='user_id',item_id='song')"
      ],
      "execution_count": 85,
      "outputs": [
        {
          "output_type": "display_data",
          "data": {
            "text/html": [
              "<pre>Warning: Ignoring columns song_id, listen_time, release, year;</pre>"
            ],
            "text/plain": [
              "Warning: Ignoring columns song_id, listen_time, release, year;"
            ]
          },
          "metadata": {
            "tags": []
          }
        },
        {
          "output_type": "display_data",
          "data": {
            "text/html": [
              "<pre> To use one of these as a rating column, specify the column name to be used as target</pre>"
            ],
            "text/plain": [
              " To use one of these as a rating column, specify the column name to be used as target"
            ]
          },
          "metadata": {
            "tags": []
          }
        },
        {
          "output_type": "display_data",
          "data": {
            "text/html": [
              "<pre>    and use a method that allows the use of a target.</pre>"
            ],
            "text/plain": [
              "    and use a method that allows the use of a target."
            ]
          },
          "metadata": {
            "tags": []
          }
        },
        {
          "output_type": "display_data",
          "data": {
            "text/html": [
              "<pre>Preparing data set.</pre>"
            ],
            "text/plain": [
              "Preparing data set."
            ]
          },
          "metadata": {
            "tags": []
          }
        },
        {
          "output_type": "display_data",
          "data": {
            "text/html": [
              "<pre>    Data has 1599875 observations with 76124 users and 9953 items.</pre>"
            ],
            "text/plain": [
              "    Data has 1599875 observations with 76124 users and 9953 items."
            ]
          },
          "metadata": {
            "tags": []
          }
        },
        {
          "output_type": "display_data",
          "data": {
            "text/html": [
              "<pre>    Data prepared in: 2.60436s</pre>"
            ],
            "text/plain": [
              "    Data prepared in: 2.60436s"
            ]
          },
          "metadata": {
            "tags": []
          }
        },
        {
          "output_type": "display_data",
          "data": {
            "text/html": [
              "<pre>1599875 observations to process; with 9953 unique items.</pre>"
            ],
            "text/plain": [
              "1599875 observations to process; with 9953 unique items."
            ]
          },
          "metadata": {
            "tags": []
          }
        }
      ]
    },
    {
      "cell_type": "code",
      "metadata": {
        "id": "rlZowPyYhuhg",
        "colab_type": "code",
        "colab": {
          "base_uri": "https://localhost:8080/",
          "height": 415
        },
        "outputId": "4a07322d-1937-43ca-eec0-8ccba938d78e"
      },
      "source": [
        "model.recommend(users=[users[0]])"
      ],
      "execution_count": 109,
      "outputs": [
        {
          "output_type": "execute_result",
          "data": {
            "text/html": [
              "<div style=\"max-height:1000px;max-width:1500px;overflow:auto;\"><table frame=\"box\" rules=\"cols\">\n",
              "    <tr>\n",
              "        <th style=\"padding-left: 1em; padding-right: 1em; text-align: center\">user_id</th>\n",
              "        <th style=\"padding-left: 1em; padding-right: 1em; text-align: center\">song</th>\n",
              "        <th style=\"padding-left: 1em; padding-right: 1em; text-align: center\">score</th>\n",
              "        <th style=\"padding-left: 1em; padding-right: 1em; text-align: center\">rank</th>\n",
              "    </tr>\n",
              "    <tr>\n",
              "        <td style=\"padding-left: 1em; padding-right: 1em; text-align: center; vertical-align: top\">c66c10a9567f0d82ff31441a9<br>fd5063e5cd9dfe8 ...</td>\n",
              "        <td style=\"padding-left: 1em; padding-right: 1em; text-align: center; vertical-align: top\">Undo - Björk</td>\n",
              "        <td style=\"padding-left: 1em; padding-right: 1em; text-align: center; vertical-align: top\">5626.0</td>\n",
              "        <td style=\"padding-left: 1em; padding-right: 1em; text-align: center; vertical-align: top\">1</td>\n",
              "    </tr>\n",
              "    <tr>\n",
              "        <td style=\"padding-left: 1em; padding-right: 1em; text-align: center; vertical-align: top\">c66c10a9567f0d82ff31441a9<br>fd5063e5cd9dfe8 ...</td>\n",
              "        <td style=\"padding-left: 1em; padding-right: 1em; text-align: center; vertical-align: top\">Dog Days Are Over (Radio<br>Edit) - Florence + The ...</td>\n",
              "        <td style=\"padding-left: 1em; padding-right: 1em; text-align: center; vertical-align: top\">5559.0</td>\n",
              "        <td style=\"padding-left: 1em; padding-right: 1em; text-align: center; vertical-align: top\">2</td>\n",
              "    </tr>\n",
              "    <tr>\n",
              "        <td style=\"padding-left: 1em; padding-right: 1em; text-align: center; vertical-align: top\">c66c10a9567f0d82ff31441a9<br>fd5063e5cd9dfe8 ...</td>\n",
              "        <td style=\"padding-left: 1em; padding-right: 1em; text-align: center; vertical-align: top\">You&#x27;re The One - Dwight<br>Yoakam ...</td>\n",
              "        <td style=\"padding-left: 1em; padding-right: 1em; text-align: center; vertical-align: top\">5139.0</td>\n",
              "        <td style=\"padding-left: 1em; padding-right: 1em; text-align: center; vertical-align: top\">3</td>\n",
              "    </tr>\n",
              "    <tr>\n",
              "        <td style=\"padding-left: 1em; padding-right: 1em; text-align: center; vertical-align: top\">c66c10a9567f0d82ff31441a9<br>fd5063e5cd9dfe8 ...</td>\n",
              "        <td style=\"padding-left: 1em; padding-right: 1em; text-align: center; vertical-align: top\">Revelry - Kings Of Leon</td>\n",
              "        <td style=\"padding-left: 1em; padding-right: 1em; text-align: center; vertical-align: top\">4932.0</td>\n",
              "        <td style=\"padding-left: 1em; padding-right: 1em; text-align: center; vertical-align: top\">4</td>\n",
              "    </tr>\n",
              "    <tr>\n",
              "        <td style=\"padding-left: 1em; padding-right: 1em; text-align: center; vertical-align: top\">c66c10a9567f0d82ff31441a9<br>fd5063e5cd9dfe8 ...</td>\n",
              "        <td style=\"padding-left: 1em; padding-right: 1em; text-align: center; vertical-align: top\">Secrets - OneRepublic</td>\n",
              "        <td style=\"padding-left: 1em; padding-right: 1em; text-align: center; vertical-align: top\">4638.0</td>\n",
              "        <td style=\"padding-left: 1em; padding-right: 1em; text-align: center; vertical-align: top\">5</td>\n",
              "    </tr>\n",
              "    <tr>\n",
              "        <td style=\"padding-left: 1em; padding-right: 1em; text-align: center; vertical-align: top\">c66c10a9567f0d82ff31441a9<br>fd5063e5cd9dfe8 ...</td>\n",
              "        <td style=\"padding-left: 1em; padding-right: 1em; text-align: center; vertical-align: top\">Horn Concerto No. 4 in E<br>flat K495: II. Romance ...</td>\n",
              "        <td style=\"padding-left: 1em; padding-right: 1em; text-align: center; vertical-align: top\">4336.0</td>\n",
              "        <td style=\"padding-left: 1em; padding-right: 1em; text-align: center; vertical-align: top\">6</td>\n",
              "    </tr>\n",
              "    <tr>\n",
              "        <td style=\"padding-left: 1em; padding-right: 1em; text-align: center; vertical-align: top\">c66c10a9567f0d82ff31441a9<br>fd5063e5cd9dfe8 ...</td>\n",
              "        <td style=\"padding-left: 1em; padding-right: 1em; text-align: center; vertical-align: top\">Fireflies - Charttraxx<br>Karaoke ...</td>\n",
              "        <td style=\"padding-left: 1em; padding-right: 1em; text-align: center; vertical-align: top\">3836.0</td>\n",
              "        <td style=\"padding-left: 1em; padding-right: 1em; text-align: center; vertical-align: top\">7</td>\n",
              "    </tr>\n",
              "    <tr>\n",
              "        <td style=\"padding-left: 1em; padding-right: 1em; text-align: center; vertical-align: top\">c66c10a9567f0d82ff31441a9<br>fd5063e5cd9dfe8 ...</td>\n",
              "        <td style=\"padding-left: 1em; padding-right: 1em; text-align: center; vertical-align: top\">Tive Sim - Cartola</td>\n",
              "        <td style=\"padding-left: 1em; padding-right: 1em; text-align: center; vertical-align: top\">3651.0</td>\n",
              "        <td style=\"padding-left: 1em; padding-right: 1em; text-align: center; vertical-align: top\">8</td>\n",
              "    </tr>\n",
              "    <tr>\n",
              "        <td style=\"padding-left: 1em; padding-right: 1em; text-align: center; vertical-align: top\">c66c10a9567f0d82ff31441a9<br>fd5063e5cd9dfe8 ...</td>\n",
              "        <td style=\"padding-left: 1em; padding-right: 1em; text-align: center; vertical-align: top\">Use Somebody - Kings Of<br>Leon ...</td>\n",
              "        <td style=\"padding-left: 1em; padding-right: 1em; text-align: center; vertical-align: top\">3218.0</td>\n",
              "        <td style=\"padding-left: 1em; padding-right: 1em; text-align: center; vertical-align: top\">9</td>\n",
              "    </tr>\n",
              "    <tr>\n",
              "        <td style=\"padding-left: 1em; padding-right: 1em; text-align: center; vertical-align: top\">c66c10a9567f0d82ff31441a9<br>fd5063e5cd9dfe8 ...</td>\n",
              "        <td style=\"padding-left: 1em; padding-right: 1em; text-align: center; vertical-align: top\">OMG - Usher featuring<br>will.i.am ...</td>\n",
              "        <td style=\"padding-left: 1em; padding-right: 1em; text-align: center; vertical-align: top\">3168.0</td>\n",
              "        <td style=\"padding-left: 1em; padding-right: 1em; text-align: center; vertical-align: top\">10</td>\n",
              "    </tr>\n",
              "</table>\n",
              "[10 rows x 4 columns]<br/>\n",
              "</div>"
            ],
            "text/plain": [
              "Columns:\n",
              "\tuser_id\tstr\n",
              "\tsong\tstr\n",
              "\tscore\tfloat\n",
              "\trank\tint\n",
              "\n",
              "Rows: 10\n",
              "\n",
              "Data:\n",
              "+-------------------------------+--------------------------------+--------+------+\n",
              "|            user_id            |              song              | score  | rank |\n",
              "+-------------------------------+--------------------------------+--------+------+\n",
              "| c66c10a9567f0d82ff31441a9f... |          Undo - Björk          | 5626.0 |  1   |\n",
              "| c66c10a9567f0d82ff31441a9f... | Dog Days Are Over (Radio E...  | 5559.0 |  2   |\n",
              "| c66c10a9567f0d82ff31441a9f... | You're The One - Dwight Yoakam | 5139.0 |  3   |\n",
              "| c66c10a9567f0d82ff31441a9f... |    Revelry - Kings Of Leon     | 4932.0 |  4   |\n",
              "| c66c10a9567f0d82ff31441a9f... |     Secrets - OneRepublic      | 4638.0 |  5   |\n",
              "| c66c10a9567f0d82ff31441a9f... | Horn Concerto No. 4 in E f...  | 4336.0 |  6   |\n",
              "| c66c10a9567f0d82ff31441a9f... | Fireflies - Charttraxx Karaoke | 3836.0 |  7   |\n",
              "| c66c10a9567f0d82ff31441a9f... |       Tive Sim - Cartola       | 3651.0 |  8   |\n",
              "| c66c10a9567f0d82ff31441a9f... |  Use Somebody - Kings Of Leon  | 3218.0 |  9   |\n",
              "| c66c10a9567f0d82ff31441a9f... | OMG - Usher featuring will...  | 3168.0 |  10  |\n",
              "+-------------------------------+--------------------------------+--------+------+\n",
              "[10 rows x 4 columns]"
            ]
          },
          "metadata": {
            "tags": []
          },
          "execution_count": 109
        }
      ]
    },
    {
      "cell_type": "code",
      "metadata": {
        "id": "cIKPH9abkHJ9",
        "colab_type": "code",
        "colab": {
          "base_uri": "https://localhost:8080/",
          "height": 34
        },
        "outputId": "5ed0959d-d126-4a29-c0cc-7c55be21da95"
      },
      "source": [
        "users[0]"
      ],
      "execution_count": 97,
      "outputs": [
        {
          "output_type": "execute_result",
          "data": {
            "text/plain": [
              "'c66c10a9567f0d82ff31441a9fd5063e5cd9dfe8'"
            ]
          },
          "metadata": {
            "tags": []
          },
          "execution_count": 97
        }
      ]
    },
    {
      "cell_type": "code",
      "metadata": {
        "id": "kqa23CNzirm6",
        "colab_type": "code",
        "colab": {}
      },
      "source": [
        "original=df.query('user_id==\"c66c10a9567f0d82ff31441a9fd5063e5cd9dfe8\"')"
      ],
      "execution_count": 0,
      "outputs": []
    },
    {
      "cell_type": "markdown",
      "metadata": {
        "id": "aQhmySyhlPPr",
        "colab_type": "text"
      },
      "source": [
        "# another model"
      ]
    },
    {
      "cell_type": "code",
      "metadata": {
        "id": "hlAMqfaHj5nF",
        "colab_type": "code",
        "colab": {
          "base_uri": "https://localhost:8080/",
          "height": 459
        },
        "outputId": "d8777ede-5074-4262-d88e-51dd218c9ab0"
      },
      "source": [
        "model2=tc.item_similarity_recommender.create(train,user_id=\"user_id\",item_id='song')"
      ],
      "execution_count": 111,
      "outputs": [
        {
          "output_type": "display_data",
          "data": {
            "text/html": [
              "<pre>Warning: Ignoring columns song_id, listen_time, release, year;</pre>"
            ],
            "text/plain": [
              "Warning: Ignoring columns song_id, listen_time, release, year;"
            ]
          },
          "metadata": {
            "tags": []
          }
        },
        {
          "output_type": "display_data",
          "data": {
            "text/html": [
              "<pre> To use one of these as a rating column, specify the column name to be used as target</pre>"
            ],
            "text/plain": [
              " To use one of these as a rating column, specify the column name to be used as target"
            ]
          },
          "metadata": {
            "tags": []
          }
        },
        {
          "output_type": "display_data",
          "data": {
            "text/html": [
              "<pre>    and use a method that allows the use of a target.</pre>"
            ],
            "text/plain": [
              "    and use a method that allows the use of a target."
            ]
          },
          "metadata": {
            "tags": []
          }
        },
        {
          "output_type": "display_data",
          "data": {
            "text/html": [
              "<pre>Preparing data set.</pre>"
            ],
            "text/plain": [
              "Preparing data set."
            ]
          },
          "metadata": {
            "tags": []
          }
        },
        {
          "output_type": "stream",
          "text": [
            "ERROR! Session/line number was not unique in database. History logging moved to new session 64\n"
          ],
          "name": "stdout"
        },
        {
          "output_type": "display_data",
          "data": {
            "text/html": [
              "<pre>    Data has 1599875 observations with 76124 users and 9953 items.</pre>"
            ],
            "text/plain": [
              "    Data has 1599875 observations with 76124 users and 9953 items."
            ]
          },
          "metadata": {
            "tags": []
          }
        },
        {
          "output_type": "display_data",
          "data": {
            "text/html": [
              "<pre>    Data prepared in: 2.81207s</pre>"
            ],
            "text/plain": [
              "    Data prepared in: 2.81207s"
            ]
          },
          "metadata": {
            "tags": []
          }
        },
        {
          "output_type": "display_data",
          "data": {
            "text/html": [
              "<pre>Training model from provided data.</pre>"
            ],
            "text/plain": [
              "Training model from provided data."
            ]
          },
          "metadata": {
            "tags": []
          }
        },
        {
          "output_type": "display_data",
          "data": {
            "text/html": [
              "<pre>Gathering per-item and per-user statistics.</pre>"
            ],
            "text/plain": [
              "Gathering per-item and per-user statistics."
            ]
          },
          "metadata": {
            "tags": []
          }
        },
        {
          "output_type": "display_data",
          "data": {
            "text/html": [
              "<pre>+--------------------------------+------------+</pre>"
            ],
            "text/plain": [
              "+--------------------------------+------------+"
            ]
          },
          "metadata": {
            "tags": []
          }
        },
        {
          "output_type": "display_data",
          "data": {
            "text/html": [
              "<pre>| Elapsed Time (Item Statistics) | % Complete |</pre>"
            ],
            "text/plain": [
              "| Elapsed Time (Item Statistics) | % Complete |"
            ]
          },
          "metadata": {
            "tags": []
          }
        },
        {
          "output_type": "display_data",
          "data": {
            "text/html": [
              "<pre>+--------------------------------+------------+</pre>"
            ],
            "text/plain": [
              "+--------------------------------+------------+"
            ]
          },
          "metadata": {
            "tags": []
          }
        },
        {
          "output_type": "display_data",
          "data": {
            "text/html": [
              "<pre>| 3.266ms                        | 1.25       |</pre>"
            ],
            "text/plain": [
              "| 3.266ms                        | 1.25       |"
            ]
          },
          "metadata": {
            "tags": []
          }
        },
        {
          "output_type": "display_data",
          "data": {
            "text/html": [
              "<pre>| 73.39ms                        | 100        |</pre>"
            ],
            "text/plain": [
              "| 73.39ms                        | 100        |"
            ]
          },
          "metadata": {
            "tags": []
          }
        },
        {
          "output_type": "display_data",
          "data": {
            "text/html": [
              "<pre>+--------------------------------+------------+</pre>"
            ],
            "text/plain": [
              "+--------------------------------+------------+"
            ]
          },
          "metadata": {
            "tags": []
          }
        },
        {
          "output_type": "display_data",
          "data": {
            "text/html": [
              "<pre>Setting up lookup tables.</pre>"
            ],
            "text/plain": [
              "Setting up lookup tables."
            ]
          },
          "metadata": {
            "tags": []
          }
        },
        {
          "output_type": "display_data",
          "data": {
            "text/html": [
              "<pre>Processing data in one pass using dense lookup tables.</pre>"
            ],
            "text/plain": [
              "Processing data in one pass using dense lookup tables."
            ]
          },
          "metadata": {
            "tags": []
          }
        },
        {
          "output_type": "display_data",
          "data": {
            "text/html": [
              "<pre>+-------------------------------------+------------------+-----------------+</pre>"
            ],
            "text/plain": [
              "+-------------------------------------+------------------+-----------------+"
            ]
          },
          "metadata": {
            "tags": []
          }
        },
        {
          "output_type": "display_data",
          "data": {
            "text/html": [
              "<pre>| Elapsed Time (Constructing Lookups) | Total % Complete | Items Processed |</pre>"
            ],
            "text/plain": [
              "| Elapsed Time (Constructing Lookups) | Total % Complete | Items Processed |"
            ]
          },
          "metadata": {
            "tags": []
          }
        },
        {
          "output_type": "display_data",
          "data": {
            "text/html": [
              "<pre>+-------------------------------------+------------------+-----------------+</pre>"
            ],
            "text/plain": [
              "+-------------------------------------+------------------+-----------------+"
            ]
          },
          "metadata": {
            "tags": []
          }
        },
        {
          "output_type": "display_data",
          "data": {
            "text/html": [
              "<pre>| 359.93ms                            | 0                | 0               |</pre>"
            ],
            "text/plain": [
              "| 359.93ms                            | 0                | 0               |"
            ]
          },
          "metadata": {
            "tags": []
          }
        },
        {
          "output_type": "display_data",
          "data": {
            "text/html": [
              "<pre>| 4.10s                               | 100              | 9953            |</pre>"
            ],
            "text/plain": [
              "| 4.10s                               | 100              | 9953            |"
            ]
          },
          "metadata": {
            "tags": []
          }
        },
        {
          "output_type": "display_data",
          "data": {
            "text/html": [
              "<pre>+-------------------------------------+------------------+-----------------+</pre>"
            ],
            "text/plain": [
              "+-------------------------------------+------------------+-----------------+"
            ]
          },
          "metadata": {
            "tags": []
          }
        },
        {
          "output_type": "display_data",
          "data": {
            "text/html": [
              "<pre>Finalizing lookup tables.</pre>"
            ],
            "text/plain": [
              "Finalizing lookup tables."
            ]
          },
          "metadata": {
            "tags": []
          }
        },
        {
          "output_type": "display_data",
          "data": {
            "text/html": [
              "<pre>Generating candidate set for working with new users.</pre>"
            ],
            "text/plain": [
              "Generating candidate set for working with new users."
            ]
          },
          "metadata": {
            "tags": []
          }
        },
        {
          "output_type": "display_data",
          "data": {
            "text/html": [
              "<pre>Finished training in 5.22229s</pre>"
            ],
            "text/plain": [
              "Finished training in 5.22229s"
            ]
          },
          "metadata": {
            "tags": []
          }
        }
      ]
    },
    {
      "cell_type": "code",
      "metadata": {
        "id": "CdeaJZ_mlmUj",
        "colab_type": "code",
        "colab": {
          "base_uri": "https://localhost:8080/",
          "height": 415
        },
        "outputId": "b06d51e9-c3fa-4a22-bec1-d1c2540920d7"
      },
      "source": [
        "model2.recommend(users=[users[0]])"
      ],
      "execution_count": 121,
      "outputs": [
        {
          "output_type": "execute_result",
          "data": {
            "text/html": [
              "<div style=\"max-height:1000px;max-width:1500px;overflow:auto;\"><table frame=\"box\" rules=\"cols\">\n",
              "    <tr>\n",
              "        <th style=\"padding-left: 1em; padding-right: 1em; text-align: center\">user_id</th>\n",
              "        <th style=\"padding-left: 1em; padding-right: 1em; text-align: center\">song</th>\n",
              "        <th style=\"padding-left: 1em; padding-right: 1em; text-align: center\">score</th>\n",
              "        <th style=\"padding-left: 1em; padding-right: 1em; text-align: center\">rank</th>\n",
              "    </tr>\n",
              "    <tr>\n",
              "        <td style=\"padding-left: 1em; padding-right: 1em; text-align: center; vertical-align: top\">c66c10a9567f0d82ff31441a9<br>fd5063e5cd9dfe8 ...</td>\n",
              "        <td style=\"padding-left: 1em; padding-right: 1em; text-align: center; vertical-align: top\">Secrets - OneRepublic</td>\n",
              "        <td style=\"padding-left: 1em; padding-right: 1em; text-align: center; vertical-align: top\">0.029424764215946198</td>\n",
              "        <td style=\"padding-left: 1em; padding-right: 1em; text-align: center; vertical-align: top\">1</td>\n",
              "    </tr>\n",
              "    <tr>\n",
              "        <td style=\"padding-left: 1em; padding-right: 1em; text-align: center; vertical-align: top\">c66c10a9567f0d82ff31441a9<br>fd5063e5cd9dfe8 ...</td>\n",
              "        <td style=\"padding-left: 1em; padding-right: 1em; text-align: center; vertical-align: top\">Fireflies - Charttraxx<br>Karaoke ...</td>\n",
              "        <td style=\"padding-left: 1em; padding-right: 1em; text-align: center; vertical-align: top\">0.028921715915203094</td>\n",
              "        <td style=\"padding-left: 1em; padding-right: 1em; text-align: center; vertical-align: top\">2</td>\n",
              "    </tr>\n",
              "    <tr>\n",
              "        <td style=\"padding-left: 1em; padding-right: 1em; text-align: center; vertical-align: top\">c66c10a9567f0d82ff31441a9<br>fd5063e5cd9dfe8 ...</td>\n",
              "        <td style=\"padding-left: 1em; padding-right: 1em; text-align: center; vertical-align: top\">Love Is A Losing Game -<br>Amy Winehouse ...</td>\n",
              "        <td style=\"padding-left: 1em; padding-right: 1em; text-align: center; vertical-align: top\">0.02874915301799774</td>\n",
              "        <td style=\"padding-left: 1em; padding-right: 1em; text-align: center; vertical-align: top\">3</td>\n",
              "    </tr>\n",
              "    <tr>\n",
              "        <td style=\"padding-left: 1em; padding-right: 1em; text-align: center; vertical-align: top\">c66c10a9567f0d82ff31441a9<br>fd5063e5cd9dfe8 ...</td>\n",
              "        <td style=\"padding-left: 1em; padding-right: 1em; text-align: center; vertical-align: top\">Marry Me - Train</td>\n",
              "        <td style=\"padding-left: 1em; padding-right: 1em; text-align: center; vertical-align: top\">0.026818733662366867</td>\n",
              "        <td style=\"padding-left: 1em; padding-right: 1em; text-align: center; vertical-align: top\">4</td>\n",
              "    </tr>\n",
              "    <tr>\n",
              "        <td style=\"padding-left: 1em; padding-right: 1em; text-align: center; vertical-align: top\">c66c10a9567f0d82ff31441a9<br>fd5063e5cd9dfe8 ...</td>\n",
              "        <td style=\"padding-left: 1em; padding-right: 1em; text-align: center; vertical-align: top\">OMG - Usher featuring<br>will.i.am ...</td>\n",
              "        <td style=\"padding-left: 1em; padding-right: 1em; text-align: center; vertical-align: top\">0.025977354496717453</td>\n",
              "        <td style=\"padding-left: 1em; padding-right: 1em; text-align: center; vertical-align: top\">5</td>\n",
              "    </tr>\n",
              "    <tr>\n",
              "        <td style=\"padding-left: 1em; padding-right: 1em; text-align: center; vertical-align: top\">c66c10a9567f0d82ff31441a9<br>fd5063e5cd9dfe8 ...</td>\n",
              "        <td style=\"padding-left: 1em; padding-right: 1em; text-align: center; vertical-align: top\">Just Friends - Amy<br>Winehouse ...</td>\n",
              "        <td style=\"padding-left: 1em; padding-right: 1em; text-align: center; vertical-align: top\">0.024478554725646973</td>\n",
              "        <td style=\"padding-left: 1em; padding-right: 1em; text-align: center; vertical-align: top\">6</td>\n",
              "    </tr>\n",
              "    <tr>\n",
              "        <td style=\"padding-left: 1em; padding-right: 1em; text-align: center; vertical-align: top\">c66c10a9567f0d82ff31441a9<br>fd5063e5cd9dfe8 ...</td>\n",
              "        <td style=\"padding-left: 1em; padding-right: 1em; text-align: center; vertical-align: top\">Wake Up Alone - Amy<br>Winehouse ...</td>\n",
              "        <td style=\"padding-left: 1em; padding-right: 1em; text-align: center; vertical-align: top\">0.023569412529468536</td>\n",
              "        <td style=\"padding-left: 1em; padding-right: 1em; text-align: center; vertical-align: top\">7</td>\n",
              "    </tr>\n",
              "    <tr>\n",
              "        <td style=\"padding-left: 1em; padding-right: 1em; text-align: center; vertical-align: top\">c66c10a9567f0d82ff31441a9<br>fd5063e5cd9dfe8 ...</td>\n",
              "        <td style=\"padding-left: 1em; padding-right: 1em; text-align: center; vertical-align: top\">He Can Only Hold Her -<br>Amy Winehouse ...</td>\n",
              "        <td style=\"padding-left: 1em; padding-right: 1em; text-align: center; vertical-align: top\">0.023451074957847595</td>\n",
              "        <td style=\"padding-left: 1em; padding-right: 1em; text-align: center; vertical-align: top\">8</td>\n",
              "    </tr>\n",
              "    <tr>\n",
              "        <td style=\"padding-left: 1em; padding-right: 1em; text-align: center; vertical-align: top\">c66c10a9567f0d82ff31441a9<br>fd5063e5cd9dfe8 ...</td>\n",
              "        <td style=\"padding-left: 1em; padding-right: 1em; text-align: center; vertical-align: top\">Use Somebody - Kings Of<br>Leon ...</td>\n",
              "        <td style=\"padding-left: 1em; padding-right: 1em; text-align: center; vertical-align: top\">0.023311316967010498</td>\n",
              "        <td style=\"padding-left: 1em; padding-right: 1em; text-align: center; vertical-align: top\">9</td>\n",
              "    </tr>\n",
              "    <tr>\n",
              "        <td style=\"padding-left: 1em; padding-right: 1em; text-align: center; vertical-align: top\">c66c10a9567f0d82ff31441a9<br>fd5063e5cd9dfe8 ...</td>\n",
              "        <td style=\"padding-left: 1em; padding-right: 1em; text-align: center; vertical-align: top\">Some Unholy War - Amy<br>Winehouse ...</td>\n",
              "        <td style=\"padding-left: 1em; padding-right: 1em; text-align: center; vertical-align: top\">0.02326212450861931</td>\n",
              "        <td style=\"padding-left: 1em; padding-right: 1em; text-align: center; vertical-align: top\">10</td>\n",
              "    </tr>\n",
              "</table>\n",
              "[10 rows x 4 columns]<br/>\n",
              "</div>"
            ],
            "text/plain": [
              "Columns:\n",
              "\tuser_id\tstr\n",
              "\tsong\tstr\n",
              "\tscore\tfloat\n",
              "\trank\tint\n",
              "\n",
              "Rows: 10\n",
              "\n",
              "Data:\n",
              "+-------------------------------+--------------------------------+\n",
              "|            user_id            |              song              |\n",
              "+-------------------------------+--------------------------------+\n",
              "| c66c10a9567f0d82ff31441a9f... |     Secrets - OneRepublic      |\n",
              "| c66c10a9567f0d82ff31441a9f... | Fireflies - Charttraxx Karaoke |\n",
              "| c66c10a9567f0d82ff31441a9f... | Love Is A Losing Game - Am...  |\n",
              "| c66c10a9567f0d82ff31441a9f... |        Marry Me - Train        |\n",
              "| c66c10a9567f0d82ff31441a9f... | OMG - Usher featuring will...  |\n",
              "| c66c10a9567f0d82ff31441a9f... |  Just Friends - Amy Winehouse  |\n",
              "| c66c10a9567f0d82ff31441a9f... | Wake Up Alone - Amy Winehouse  |\n",
              "| c66c10a9567f0d82ff31441a9f... | He Can Only Hold Her - Amy...  |\n",
              "| c66c10a9567f0d82ff31441a9f... |  Use Somebody - Kings Of Leon  |\n",
              "| c66c10a9567f0d82ff31441a9f... | Some Unholy War - Amy Wine...  |\n",
              "+-------------------------------+--------------------------------+\n",
              "+----------------------+------+\n",
              "|        score         | rank |\n",
              "+----------------------+------+\n",
              "| 0.029424764215946198 |  1   |\n",
              "| 0.028921715915203094 |  2   |\n",
              "| 0.02874915301799774  |  3   |\n",
              "| 0.026818733662366867 |  4   |\n",
              "| 0.025977354496717453 |  5   |\n",
              "| 0.024478554725646973 |  6   |\n",
              "| 0.023569412529468536 |  7   |\n",
              "| 0.023451074957847595 |  8   |\n",
              "| 0.023311316967010498 |  9   |\n",
              "| 0.02326212450861931  |  10  |\n",
              "+----------------------+------+\n",
              "[10 rows x 4 columns]"
            ]
          },
          "metadata": {
            "tags": []
          },
          "execution_count": 121
        }
      ]
    },
    {
      "cell_type": "code",
      "metadata": {
        "id": "PNPF0oFwl99d",
        "colab_type": "code",
        "colab": {
          "base_uri": "https://localhost:8080/",
          "height": 415
        },
        "outputId": "03b6eb65-2045-4f43-f555-8d58b2861edc"
      },
      "source": [
        "model2.get_similar_items(['OMG - Usher featuring will.i.am'])"
      ],
      "execution_count": 120,
      "outputs": [
        {
          "output_type": "execute_result",
          "data": {
            "text/html": [
              "<div style=\"max-height:1000px;max-width:1500px;overflow:auto;\"><table frame=\"box\" rules=\"cols\">\n",
              "    <tr>\n",
              "        <th style=\"padding-left: 1em; padding-right: 1em; text-align: center\">song</th>\n",
              "        <th style=\"padding-left: 1em; padding-right: 1em; text-align: center\">similar</th>\n",
              "        <th style=\"padding-left: 1em; padding-right: 1em; text-align: center\">score</th>\n",
              "        <th style=\"padding-left: 1em; padding-right: 1em; text-align: center\">rank</th>\n",
              "    </tr>\n",
              "    <tr>\n",
              "        <td style=\"padding-left: 1em; padding-right: 1em; text-align: center; vertical-align: top\">OMG - Usher featuring<br>will.i.am ...</td>\n",
              "        <td style=\"padding-left: 1em; padding-right: 1em; text-align: center; vertical-align: top\">Hey_ Soul Sister - Train</td>\n",
              "        <td style=\"padding-left: 1em; padding-right: 1em; text-align: center; vertical-align: top\">0.18991655111312866</td>\n",
              "        <td style=\"padding-left: 1em; padding-right: 1em; text-align: center; vertical-align: top\">1</td>\n",
              "    </tr>\n",
              "    <tr>\n",
              "        <td style=\"padding-left: 1em; padding-right: 1em; text-align: center; vertical-align: top\">OMG - Usher featuring<br>will.i.am ...</td>\n",
              "        <td style=\"padding-left: 1em; padding-right: 1em; text-align: center; vertical-align: top\">Marry Me - Train</td>\n",
              "        <td style=\"padding-left: 1em; padding-right: 1em; text-align: center; vertical-align: top\">0.18064260482788086</td>\n",
              "        <td style=\"padding-left: 1em; padding-right: 1em; text-align: center; vertical-align: top\">2</td>\n",
              "    </tr>\n",
              "    <tr>\n",
              "        <td style=\"padding-left: 1em; padding-right: 1em; text-align: center; vertical-align: top\">OMG - Usher featuring<br>will.i.am ...</td>\n",
              "        <td style=\"padding-left: 1em; padding-right: 1em; text-align: center; vertical-align: top\">Fireflies - Charttraxx<br>Karaoke ...</td>\n",
              "        <td style=\"padding-left: 1em; padding-right: 1em; text-align: center; vertical-align: top\">0.17575961351394653</td>\n",
              "        <td style=\"padding-left: 1em; padding-right: 1em; text-align: center; vertical-align: top\">3</td>\n",
              "    </tr>\n",
              "    <tr>\n",
              "        <td style=\"padding-left: 1em; padding-right: 1em; text-align: center; vertical-align: top\">OMG - Usher featuring<br>will.i.am ...</td>\n",
              "        <td style=\"padding-left: 1em; padding-right: 1em; text-align: center; vertical-align: top\">Drop The World - Lil<br>Wayne / Eminem ...</td>\n",
              "        <td style=\"padding-left: 1em; padding-right: 1em; text-align: center; vertical-align: top\">0.1738886833190918</td>\n",
              "        <td style=\"padding-left: 1em; padding-right: 1em; text-align: center; vertical-align: top\">4</td>\n",
              "    </tr>\n",
              "    <tr>\n",
              "        <td style=\"padding-left: 1em; padding-right: 1em; text-align: center; vertical-align: top\">OMG - Usher featuring<br>will.i.am ...</td>\n",
              "        <td style=\"padding-left: 1em; padding-right: 1em; text-align: center; vertical-align: top\">Secrets - OneRepublic</td>\n",
              "        <td style=\"padding-left: 1em; padding-right: 1em; text-align: center; vertical-align: top\">0.1649007797241211</td>\n",
              "        <td style=\"padding-left: 1em; padding-right: 1em; text-align: center; vertical-align: top\">5</td>\n",
              "    </tr>\n",
              "    <tr>\n",
              "        <td style=\"padding-left: 1em; padding-right: 1em; text-align: center; vertical-align: top\">OMG - Usher featuring<br>will.i.am ...</td>\n",
              "        <td style=\"padding-left: 1em; padding-right: 1em; text-align: center; vertical-align: top\">Sehr kosmisch - Harmonia</td>\n",
              "        <td style=\"padding-left: 1em; padding-right: 1em; text-align: center; vertical-align: top\">0.16060209274291992</td>\n",
              "        <td style=\"padding-left: 1em; padding-right: 1em; text-align: center; vertical-align: top\">6</td>\n",
              "    </tr>\n",
              "    <tr>\n",
              "        <td style=\"padding-left: 1em; padding-right: 1em; text-align: center; vertical-align: top\">OMG - Usher featuring<br>will.i.am ...</td>\n",
              "        <td style=\"padding-left: 1em; padding-right: 1em; text-align: center; vertical-align: top\">Somebody To Love - Justin<br>Bieber ...</td>\n",
              "        <td style=\"padding-left: 1em; padding-right: 1em; text-align: center; vertical-align: top\">0.15404421091079712</td>\n",
              "        <td style=\"padding-left: 1em; padding-right: 1em; text-align: center; vertical-align: top\">7</td>\n",
              "    </tr>\n",
              "    <tr>\n",
              "        <td style=\"padding-left: 1em; padding-right: 1em; text-align: center; vertical-align: top\">OMG - Usher featuring<br>will.i.am ...</td>\n",
              "        <td style=\"padding-left: 1em; padding-right: 1em; text-align: center; vertical-align: top\">Pursuit Of Happiness<br>(nightmare) - Kid Cudi / ...</td>\n",
              "        <td style=\"padding-left: 1em; padding-right: 1em; text-align: center; vertical-align: top\">0.1482958197593689</td>\n",
              "        <td style=\"padding-left: 1em; padding-right: 1em; text-align: center; vertical-align: top\">8</td>\n",
              "    </tr>\n",
              "    <tr>\n",
              "        <td style=\"padding-left: 1em; padding-right: 1em; text-align: center; vertical-align: top\">OMG - Usher featuring<br>will.i.am ...</td>\n",
              "        <td style=\"padding-left: 1em; padding-right: 1em; text-align: center; vertical-align: top\">Use Somebody - Kings Of<br>Leon ...</td>\n",
              "        <td style=\"padding-left: 1em; padding-right: 1em; text-align: center; vertical-align: top\">0.14403438568115234</td>\n",
              "        <td style=\"padding-left: 1em; padding-right: 1em; text-align: center; vertical-align: top\">9</td>\n",
              "    </tr>\n",
              "    <tr>\n",
              "        <td style=\"padding-left: 1em; padding-right: 1em; text-align: center; vertical-align: top\">OMG - Usher featuring<br>will.i.am ...</td>\n",
              "        <td style=\"padding-left: 1em; padding-right: 1em; text-align: center; vertical-align: top\">Dog Days Are Over (Radio<br>Edit) - Florence + The ...</td>\n",
              "        <td style=\"padding-left: 1em; padding-right: 1em; text-align: center; vertical-align: top\">0.14138108491897583</td>\n",
              "        <td style=\"padding-left: 1em; padding-right: 1em; text-align: center; vertical-align: top\">10</td>\n",
              "    </tr>\n",
              "</table>\n",
              "[10 rows x 4 columns]<br/>\n",
              "</div>"
            ],
            "text/plain": [
              "Columns:\n",
              "\tsong\tstr\n",
              "\tsimilar\tstr\n",
              "\tscore\tfloat\n",
              "\trank\tint\n",
              "\n",
              "Rows: 10\n",
              "\n",
              "Data:\n",
              "+-------------------------------+--------------------------------+\n",
              "|              song             |            similar             |\n",
              "+-------------------------------+--------------------------------+\n",
              "| OMG - Usher featuring will... |    Hey_ Soul Sister - Train    |\n",
              "| OMG - Usher featuring will... |        Marry Me - Train        |\n",
              "| OMG - Usher featuring will... | Fireflies - Charttraxx Karaoke |\n",
              "| OMG - Usher featuring will... | Drop The World - Lil Wayne...  |\n",
              "| OMG - Usher featuring will... |     Secrets - OneRepublic      |\n",
              "| OMG - Usher featuring will... |    Sehr kosmisch - Harmonia    |\n",
              "| OMG - Usher featuring will... | Somebody To Love - Justin ...  |\n",
              "| OMG - Usher featuring will... | Pursuit Of Happiness (nigh...  |\n",
              "| OMG - Usher featuring will... |  Use Somebody - Kings Of Leon  |\n",
              "| OMG - Usher featuring will... | Dog Days Are Over (Radio E...  |\n",
              "+-------------------------------+--------------------------------+\n",
              "+---------------------+------+\n",
              "|        score        | rank |\n",
              "+---------------------+------+\n",
              "| 0.18991655111312866 |  1   |\n",
              "| 0.18064260482788086 |  2   |\n",
              "| 0.17575961351394653 |  3   |\n",
              "|  0.1738886833190918 |  4   |\n",
              "|  0.1649007797241211 |  5   |\n",
              "| 0.16060209274291992 |  6   |\n",
              "| 0.15404421091079712 |  7   |\n",
              "|  0.1482958197593689 |  8   |\n",
              "| 0.14403438568115234 |  9   |\n",
              "| 0.14138108491897583 |  10  |\n",
              "+---------------------+------+\n",
              "[10 rows x 4 columns]"
            ]
          },
          "metadata": {
            "tags": []
          },
          "execution_count": 120
        }
      ]
    },
    {
      "cell_type": "code",
      "metadata": {
        "id": "T1ow5wz1mWyR",
        "colab_type": "code",
        "colab": {
          "base_uri": "https://localhost:8080/",
          "height": 1000
        },
        "outputId": "e8f85dfa-0fcf-4b49-a0cd-1c292b6b0c04"
      },
      "source": [
        "performance=tc.recommender.util.compare_models(test,models=[model,model2],user_sample=0.8,metric='precision_recall')"
      ],
      "execution_count": 123,
      "outputs": [
        {
          "output_type": "stream",
          "text": [
            "compare_models: using 54946 users to estimate model performance\n",
            "PROGRESS: Evaluate model M0\n"
          ],
          "name": "stdout"
        },
        {
          "output_type": "display_data",
          "data": {
            "text/html": [
              "<pre>recommendations finished on 1000/54946 queries. users per second: 2537.64</pre>"
            ],
            "text/plain": [
              "recommendations finished on 1000/54946 queries. users per second: 2537.64"
            ]
          },
          "metadata": {
            "tags": []
          }
        },
        {
          "output_type": "display_data",
          "data": {
            "text/html": [
              "<pre>recommendations finished on 2000/54946 queries. users per second: 2513.68</pre>"
            ],
            "text/plain": [
              "recommendations finished on 2000/54946 queries. users per second: 2513.68"
            ]
          },
          "metadata": {
            "tags": []
          }
        },
        {
          "output_type": "display_data",
          "data": {
            "text/html": [
              "<pre>recommendations finished on 3000/54946 queries. users per second: 2500.39</pre>"
            ],
            "text/plain": [
              "recommendations finished on 3000/54946 queries. users per second: 2500.39"
            ]
          },
          "metadata": {
            "tags": []
          }
        },
        {
          "output_type": "display_data",
          "data": {
            "text/html": [
              "<pre>recommendations finished on 4000/54946 queries. users per second: 2480.61</pre>"
            ],
            "text/plain": [
              "recommendations finished on 4000/54946 queries. users per second: 2480.61"
            ]
          },
          "metadata": {
            "tags": []
          }
        },
        {
          "output_type": "display_data",
          "data": {
            "text/html": [
              "<pre>recommendations finished on 5000/54946 queries. users per second: 2493.1</pre>"
            ],
            "text/plain": [
              "recommendations finished on 5000/54946 queries. users per second: 2493.1"
            ]
          },
          "metadata": {
            "tags": []
          }
        },
        {
          "output_type": "display_data",
          "data": {
            "text/html": [
              "<pre>recommendations finished on 6000/54946 queries. users per second: 2487.89</pre>"
            ],
            "text/plain": [
              "recommendations finished on 6000/54946 queries. users per second: 2487.89"
            ]
          },
          "metadata": {
            "tags": []
          }
        },
        {
          "output_type": "display_data",
          "data": {
            "text/html": [
              "<pre>recommendations finished on 7000/54946 queries. users per second: 2474.31</pre>"
            ],
            "text/plain": [
              "recommendations finished on 7000/54946 queries. users per second: 2474.31"
            ]
          },
          "metadata": {
            "tags": []
          }
        },
        {
          "output_type": "display_data",
          "data": {
            "text/html": [
              "<pre>recommendations finished on 8000/54946 queries. users per second: 2472.72</pre>"
            ],
            "text/plain": [
              "recommendations finished on 8000/54946 queries. users per second: 2472.72"
            ]
          },
          "metadata": {
            "tags": []
          }
        },
        {
          "output_type": "display_data",
          "data": {
            "text/html": [
              "<pre>recommendations finished on 9000/54946 queries. users per second: 2467.77</pre>"
            ],
            "text/plain": [
              "recommendations finished on 9000/54946 queries. users per second: 2467.77"
            ]
          },
          "metadata": {
            "tags": []
          }
        },
        {
          "output_type": "display_data",
          "data": {
            "text/html": [
              "<pre>recommendations finished on 10000/54946 queries. users per second: 2467.22</pre>"
            ],
            "text/plain": [
              "recommendations finished on 10000/54946 queries. users per second: 2467.22"
            ]
          },
          "metadata": {
            "tags": []
          }
        },
        {
          "output_type": "display_data",
          "data": {
            "text/html": [
              "<pre>recommendations finished on 11000/54946 queries. users per second: 2462.6</pre>"
            ],
            "text/plain": [
              "recommendations finished on 11000/54946 queries. users per second: 2462.6"
            ]
          },
          "metadata": {
            "tags": []
          }
        },
        {
          "output_type": "display_data",
          "data": {
            "text/html": [
              "<pre>recommendations finished on 12000/54946 queries. users per second: 2451.33</pre>"
            ],
            "text/plain": [
              "recommendations finished on 12000/54946 queries. users per second: 2451.33"
            ]
          },
          "metadata": {
            "tags": []
          }
        },
        {
          "output_type": "display_data",
          "data": {
            "text/html": [
              "<pre>recommendations finished on 13000/54946 queries. users per second: 2452.34</pre>"
            ],
            "text/plain": [
              "recommendations finished on 13000/54946 queries. users per second: 2452.34"
            ]
          },
          "metadata": {
            "tags": []
          }
        },
        {
          "output_type": "display_data",
          "data": {
            "text/html": [
              "<pre>recommendations finished on 14000/54946 queries. users per second: 2451.02</pre>"
            ],
            "text/plain": [
              "recommendations finished on 14000/54946 queries. users per second: 2451.02"
            ]
          },
          "metadata": {
            "tags": []
          }
        },
        {
          "output_type": "display_data",
          "data": {
            "text/html": [
              "<pre>recommendations finished on 15000/54946 queries. users per second: 2449.75</pre>"
            ],
            "text/plain": [
              "recommendations finished on 15000/54946 queries. users per second: 2449.75"
            ]
          },
          "metadata": {
            "tags": []
          }
        },
        {
          "output_type": "display_data",
          "data": {
            "text/html": [
              "<pre>recommendations finished on 16000/54946 queries. users per second: 2447.73</pre>"
            ],
            "text/plain": [
              "recommendations finished on 16000/54946 queries. users per second: 2447.73"
            ]
          },
          "metadata": {
            "tags": []
          }
        },
        {
          "output_type": "display_data",
          "data": {
            "text/html": [
              "<pre>recommendations finished on 17000/54946 queries. users per second: 2447.41</pre>"
            ],
            "text/plain": [
              "recommendations finished on 17000/54946 queries. users per second: 2447.41"
            ]
          },
          "metadata": {
            "tags": []
          }
        },
        {
          "output_type": "display_data",
          "data": {
            "text/html": [
              "<pre>recommendations finished on 18000/54946 queries. users per second: 2453.21</pre>"
            ],
            "text/plain": [
              "recommendations finished on 18000/54946 queries. users per second: 2453.21"
            ]
          },
          "metadata": {
            "tags": []
          }
        },
        {
          "output_type": "display_data",
          "data": {
            "text/html": [
              "<pre>recommendations finished on 19000/54946 queries. users per second: 2451.66</pre>"
            ],
            "text/plain": [
              "recommendations finished on 19000/54946 queries. users per second: 2451.66"
            ]
          },
          "metadata": {
            "tags": []
          }
        },
        {
          "output_type": "display_data",
          "data": {
            "text/html": [
              "<pre>recommendations finished on 20000/54946 queries. users per second: 2447.61</pre>"
            ],
            "text/plain": [
              "recommendations finished on 20000/54946 queries. users per second: 2447.61"
            ]
          },
          "metadata": {
            "tags": []
          }
        },
        {
          "output_type": "display_data",
          "data": {
            "text/html": [
              "<pre>recommendations finished on 21000/54946 queries. users per second: 2446.45</pre>"
            ],
            "text/plain": [
              "recommendations finished on 21000/54946 queries. users per second: 2446.45"
            ]
          },
          "metadata": {
            "tags": []
          }
        },
        {
          "output_type": "display_data",
          "data": {
            "text/html": [
              "<pre>recommendations finished on 22000/54946 queries. users per second: 2446</pre>"
            ],
            "text/plain": [
              "recommendations finished on 22000/54946 queries. users per second: 2446"
            ]
          },
          "metadata": {
            "tags": []
          }
        },
        {
          "output_type": "display_data",
          "data": {
            "text/html": [
              "<pre>recommendations finished on 23000/54946 queries. users per second: 2444.19</pre>"
            ],
            "text/plain": [
              "recommendations finished on 23000/54946 queries. users per second: 2444.19"
            ]
          },
          "metadata": {
            "tags": []
          }
        },
        {
          "output_type": "display_data",
          "data": {
            "text/html": [
              "<pre>recommendations finished on 24000/54946 queries. users per second: 2446.56</pre>"
            ],
            "text/plain": [
              "recommendations finished on 24000/54946 queries. users per second: 2446.56"
            ]
          },
          "metadata": {
            "tags": []
          }
        },
        {
          "output_type": "display_data",
          "data": {
            "text/html": [
              "<pre>recommendations finished on 25000/54946 queries. users per second: 2441.33</pre>"
            ],
            "text/plain": [
              "recommendations finished on 25000/54946 queries. users per second: 2441.33"
            ]
          },
          "metadata": {
            "tags": []
          }
        },
        {
          "output_type": "display_data",
          "data": {
            "text/html": [
              "<pre>recommendations finished on 26000/54946 queries. users per second: 2442.01</pre>"
            ],
            "text/plain": [
              "recommendations finished on 26000/54946 queries. users per second: 2442.01"
            ]
          },
          "metadata": {
            "tags": []
          }
        },
        {
          "output_type": "display_data",
          "data": {
            "text/html": [
              "<pre>recommendations finished on 27000/54946 queries. users per second: 2442.05</pre>"
            ],
            "text/plain": [
              "recommendations finished on 27000/54946 queries. users per second: 2442.05"
            ]
          },
          "metadata": {
            "tags": []
          }
        },
        {
          "output_type": "display_data",
          "data": {
            "text/html": [
              "<pre>recommendations finished on 28000/54946 queries. users per second: 2442.41</pre>"
            ],
            "text/plain": [
              "recommendations finished on 28000/54946 queries. users per second: 2442.41"
            ]
          },
          "metadata": {
            "tags": []
          }
        },
        {
          "output_type": "display_data",
          "data": {
            "text/html": [
              "<pre>recommendations finished on 29000/54946 queries. users per second: 2442.71</pre>"
            ],
            "text/plain": [
              "recommendations finished on 29000/54946 queries. users per second: 2442.71"
            ]
          },
          "metadata": {
            "tags": []
          }
        },
        {
          "output_type": "display_data",
          "data": {
            "text/html": [
              "<pre>recommendations finished on 30000/54946 queries. users per second: 2441.77</pre>"
            ],
            "text/plain": [
              "recommendations finished on 30000/54946 queries. users per second: 2441.77"
            ]
          },
          "metadata": {
            "tags": []
          }
        },
        {
          "output_type": "display_data",
          "data": {
            "text/html": [
              "<pre>recommendations finished on 31000/54946 queries. users per second: 2445.11</pre>"
            ],
            "text/plain": [
              "recommendations finished on 31000/54946 queries. users per second: 2445.11"
            ]
          },
          "metadata": {
            "tags": []
          }
        },
        {
          "output_type": "display_data",
          "data": {
            "text/html": [
              "<pre>recommendations finished on 32000/54946 queries. users per second: 2448.61</pre>"
            ],
            "text/plain": [
              "recommendations finished on 32000/54946 queries. users per second: 2448.61"
            ]
          },
          "metadata": {
            "tags": []
          }
        },
        {
          "output_type": "display_data",
          "data": {
            "text/html": [
              "<pre>recommendations finished on 33000/54946 queries. users per second: 2449.76</pre>"
            ],
            "text/plain": [
              "recommendations finished on 33000/54946 queries. users per second: 2449.76"
            ]
          },
          "metadata": {
            "tags": []
          }
        },
        {
          "output_type": "display_data",
          "data": {
            "text/html": [
              "<pre>recommendations finished on 34000/54946 queries. users per second: 2450.75</pre>"
            ],
            "text/plain": [
              "recommendations finished on 34000/54946 queries. users per second: 2450.75"
            ]
          },
          "metadata": {
            "tags": []
          }
        },
        {
          "output_type": "display_data",
          "data": {
            "text/html": [
              "<pre>recommendations finished on 35000/54946 queries. users per second: 2450.84</pre>"
            ],
            "text/plain": [
              "recommendations finished on 35000/54946 queries. users per second: 2450.84"
            ]
          },
          "metadata": {
            "tags": []
          }
        },
        {
          "output_type": "display_data",
          "data": {
            "text/html": [
              "<pre>recommendations finished on 36000/54946 queries. users per second: 2450.89</pre>"
            ],
            "text/plain": [
              "recommendations finished on 36000/54946 queries. users per second: 2450.89"
            ]
          },
          "metadata": {
            "tags": []
          }
        },
        {
          "output_type": "display_data",
          "data": {
            "text/html": [
              "<pre>recommendations finished on 37000/54946 queries. users per second: 2451.47</pre>"
            ],
            "text/plain": [
              "recommendations finished on 37000/54946 queries. users per second: 2451.47"
            ]
          },
          "metadata": {
            "tags": []
          }
        },
        {
          "output_type": "display_data",
          "data": {
            "text/html": [
              "<pre>recommendations finished on 38000/54946 queries. users per second: 2453.38</pre>"
            ],
            "text/plain": [
              "recommendations finished on 38000/54946 queries. users per second: 2453.38"
            ]
          },
          "metadata": {
            "tags": []
          }
        },
        {
          "output_type": "display_data",
          "data": {
            "text/html": [
              "<pre>recommendations finished on 39000/54946 queries. users per second: 2452.28</pre>"
            ],
            "text/plain": [
              "recommendations finished on 39000/54946 queries. users per second: 2452.28"
            ]
          },
          "metadata": {
            "tags": []
          }
        },
        {
          "output_type": "display_data",
          "data": {
            "text/html": [
              "<pre>recommendations finished on 40000/54946 queries. users per second: 2449.78</pre>"
            ],
            "text/plain": [
              "recommendations finished on 40000/54946 queries. users per second: 2449.78"
            ]
          },
          "metadata": {
            "tags": []
          }
        },
        {
          "output_type": "display_data",
          "data": {
            "text/html": [
              "<pre>recommendations finished on 41000/54946 queries. users per second: 2450.47</pre>"
            ],
            "text/plain": [
              "recommendations finished on 41000/54946 queries. users per second: 2450.47"
            ]
          },
          "metadata": {
            "tags": []
          }
        },
        {
          "output_type": "display_data",
          "data": {
            "text/html": [
              "<pre>recommendations finished on 42000/54946 queries. users per second: 2450.28</pre>"
            ],
            "text/plain": [
              "recommendations finished on 42000/54946 queries. users per second: 2450.28"
            ]
          },
          "metadata": {
            "tags": []
          }
        },
        {
          "output_type": "display_data",
          "data": {
            "text/html": [
              "<pre>recommendations finished on 43000/54946 queries. users per second: 2450.23</pre>"
            ],
            "text/plain": [
              "recommendations finished on 43000/54946 queries. users per second: 2450.23"
            ]
          },
          "metadata": {
            "tags": []
          }
        },
        {
          "output_type": "display_data",
          "data": {
            "text/html": [
              "<pre>recommendations finished on 44000/54946 queries. users per second: 2449.43</pre>"
            ],
            "text/plain": [
              "recommendations finished on 44000/54946 queries. users per second: 2449.43"
            ]
          },
          "metadata": {
            "tags": []
          }
        },
        {
          "output_type": "display_data",
          "data": {
            "text/html": [
              "<pre>recommendations finished on 45000/54946 queries. users per second: 2449.85</pre>"
            ],
            "text/plain": [
              "recommendations finished on 45000/54946 queries. users per second: 2449.85"
            ]
          },
          "metadata": {
            "tags": []
          }
        },
        {
          "output_type": "display_data",
          "data": {
            "text/html": [
              "<pre>recommendations finished on 46000/54946 queries. users per second: 2448.97</pre>"
            ],
            "text/plain": [
              "recommendations finished on 46000/54946 queries. users per second: 2448.97"
            ]
          },
          "metadata": {
            "tags": []
          }
        },
        {
          "output_type": "display_data",
          "data": {
            "text/html": [
              "<pre>recommendations finished on 47000/54946 queries. users per second: 2449.54</pre>"
            ],
            "text/plain": [
              "recommendations finished on 47000/54946 queries. users per second: 2449.54"
            ]
          },
          "metadata": {
            "tags": []
          }
        },
        {
          "output_type": "display_data",
          "data": {
            "text/html": [
              "<pre>recommendations finished on 48000/54946 queries. users per second: 2448.67</pre>"
            ],
            "text/plain": [
              "recommendations finished on 48000/54946 queries. users per second: 2448.67"
            ]
          },
          "metadata": {
            "tags": []
          }
        },
        {
          "output_type": "display_data",
          "data": {
            "text/html": [
              "<pre>recommendations finished on 49000/54946 queries. users per second: 2450.38</pre>"
            ],
            "text/plain": [
              "recommendations finished on 49000/54946 queries. users per second: 2450.38"
            ]
          },
          "metadata": {
            "tags": []
          }
        },
        {
          "output_type": "display_data",
          "data": {
            "text/html": [
              "<pre>recommendations finished on 50000/54946 queries. users per second: 2449.94</pre>"
            ],
            "text/plain": [
              "recommendations finished on 50000/54946 queries. users per second: 2449.94"
            ]
          },
          "metadata": {
            "tags": []
          }
        },
        {
          "output_type": "display_data",
          "data": {
            "text/html": [
              "<pre>recommendations finished on 51000/54946 queries. users per second: 2447.22</pre>"
            ],
            "text/plain": [
              "recommendations finished on 51000/54946 queries. users per second: 2447.22"
            ]
          },
          "metadata": {
            "tags": []
          }
        },
        {
          "output_type": "display_data",
          "data": {
            "text/html": [
              "<pre>recommendations finished on 52000/54946 queries. users per second: 2447.35</pre>"
            ],
            "text/plain": [
              "recommendations finished on 52000/54946 queries. users per second: 2447.35"
            ]
          },
          "metadata": {
            "tags": []
          }
        },
        {
          "output_type": "display_data",
          "data": {
            "text/html": [
              "<pre>recommendations finished on 53000/54946 queries. users per second: 2447.97</pre>"
            ],
            "text/plain": [
              "recommendations finished on 53000/54946 queries. users per second: 2447.97"
            ]
          },
          "metadata": {
            "tags": []
          }
        },
        {
          "output_type": "display_data",
          "data": {
            "text/html": [
              "<pre>recommendations finished on 54000/54946 queries. users per second: 2447.64</pre>"
            ],
            "text/plain": [
              "recommendations finished on 54000/54946 queries. users per second: 2447.64"
            ]
          },
          "metadata": {
            "tags": []
          }
        },
        {
          "output_type": "stream",
          "text": [
            "\n",
            "Precision and recall summary statistics by cutoff\n",
            "+--------+----------------------+----------------------+\n",
            "| cutoff |    mean_precision    |     mean_recall      |\n",
            "+--------+----------------------+----------------------+\n",
            "|   1    | 0.030320678484330073 | 0.005681534473725699 |\n",
            "|   2    | 0.028327812761620504 | 0.010762870160527791 |\n",
            "|   3    | 0.027299530448075895 | 0.015585432213400457 |\n",
            "|   4    | 0.025884504786517642 | 0.019735738176379653 |\n",
            "|   5    | 0.02441670003276058  | 0.023114535775177858 |\n",
            "|   6    | 0.023177301350416887 | 0.026039883316433768 |\n",
            "|   7    |  0.0222166178741721  | 0.02912436592524366  |\n",
            "|   8    | 0.021366432497361112 | 0.03179780365851864  |\n",
            "|   9    | 0.02061417876945717  | 0.034295529990774766 |\n",
            "|   10   | 0.019914097477523953 | 0.036733380579623144 |\n",
            "+--------+----------------------+----------------------+\n",
            "[10 rows x 3 columns]\n",
            "\n",
            "PROGRESS: Evaluate model M1\n"
          ],
          "name": "stdout"
        },
        {
          "output_type": "display_data",
          "data": {
            "text/html": [
              "<pre>recommendations finished on 1000/54946 queries. users per second: 2337.25</pre>"
            ],
            "text/plain": [
              "recommendations finished on 1000/54946 queries. users per second: 2337.25"
            ]
          },
          "metadata": {
            "tags": []
          }
        },
        {
          "output_type": "display_data",
          "data": {
            "text/html": [
              "<pre>recommendations finished on 2000/54946 queries. users per second: 2335.83</pre>"
            ],
            "text/plain": [
              "recommendations finished on 2000/54946 queries. users per second: 2335.83"
            ]
          },
          "metadata": {
            "tags": []
          }
        },
        {
          "output_type": "display_data",
          "data": {
            "text/html": [
              "<pre>recommendations finished on 3000/54946 queries. users per second: 2355.16</pre>"
            ],
            "text/plain": [
              "recommendations finished on 3000/54946 queries. users per second: 2355.16"
            ]
          },
          "metadata": {
            "tags": []
          }
        },
        {
          "output_type": "display_data",
          "data": {
            "text/html": [
              "<pre>recommendations finished on 4000/54946 queries. users per second: 2352.81</pre>"
            ],
            "text/plain": [
              "recommendations finished on 4000/54946 queries. users per second: 2352.81"
            ]
          },
          "metadata": {
            "tags": []
          }
        },
        {
          "output_type": "display_data",
          "data": {
            "text/html": [
              "<pre>recommendations finished on 5000/54946 queries. users per second: 2350.15</pre>"
            ],
            "text/plain": [
              "recommendations finished on 5000/54946 queries. users per second: 2350.15"
            ]
          },
          "metadata": {
            "tags": []
          }
        },
        {
          "output_type": "display_data",
          "data": {
            "text/html": [
              "<pre>recommendations finished on 6000/54946 queries. users per second: 2344.73</pre>"
            ],
            "text/plain": [
              "recommendations finished on 6000/54946 queries. users per second: 2344.73"
            ]
          },
          "metadata": {
            "tags": []
          }
        },
        {
          "output_type": "display_data",
          "data": {
            "text/html": [
              "<pre>recommendations finished on 7000/54946 queries. users per second: 2352.33</pre>"
            ],
            "text/plain": [
              "recommendations finished on 7000/54946 queries. users per second: 2352.33"
            ]
          },
          "metadata": {
            "tags": []
          }
        },
        {
          "output_type": "display_data",
          "data": {
            "text/html": [
              "<pre>recommendations finished on 8000/54946 queries. users per second: 2357</pre>"
            ],
            "text/plain": [
              "recommendations finished on 8000/54946 queries. users per second: 2357"
            ]
          },
          "metadata": {
            "tags": []
          }
        },
        {
          "output_type": "display_data",
          "data": {
            "text/html": [
              "<pre>recommendations finished on 9000/54946 queries. users per second: 2346.08</pre>"
            ],
            "text/plain": [
              "recommendations finished on 9000/54946 queries. users per second: 2346.08"
            ]
          },
          "metadata": {
            "tags": []
          }
        },
        {
          "output_type": "display_data",
          "data": {
            "text/html": [
              "<pre>recommendations finished on 10000/54946 queries. users per second: 2346.1</pre>"
            ],
            "text/plain": [
              "recommendations finished on 10000/54946 queries. users per second: 2346.1"
            ]
          },
          "metadata": {
            "tags": []
          }
        },
        {
          "output_type": "display_data",
          "data": {
            "text/html": [
              "<pre>recommendations finished on 11000/54946 queries. users per second: 2348.34</pre>"
            ],
            "text/plain": [
              "recommendations finished on 11000/54946 queries. users per second: 2348.34"
            ]
          },
          "metadata": {
            "tags": []
          }
        },
        {
          "output_type": "display_data",
          "data": {
            "text/html": [
              "<pre>recommendations finished on 12000/54946 queries. users per second: 2330</pre>"
            ],
            "text/plain": [
              "recommendations finished on 12000/54946 queries. users per second: 2330"
            ]
          },
          "metadata": {
            "tags": []
          }
        },
        {
          "output_type": "display_data",
          "data": {
            "text/html": [
              "<pre>recommendations finished on 13000/54946 queries. users per second: 2330.16</pre>"
            ],
            "text/plain": [
              "recommendations finished on 13000/54946 queries. users per second: 2330.16"
            ]
          },
          "metadata": {
            "tags": []
          }
        },
        {
          "output_type": "display_data",
          "data": {
            "text/html": [
              "<pre>recommendations finished on 14000/54946 queries. users per second: 2333.09</pre>"
            ],
            "text/plain": [
              "recommendations finished on 14000/54946 queries. users per second: 2333.09"
            ]
          },
          "metadata": {
            "tags": []
          }
        },
        {
          "output_type": "display_data",
          "data": {
            "text/html": [
              "<pre>recommendations finished on 15000/54946 queries. users per second: 2332.09</pre>"
            ],
            "text/plain": [
              "recommendations finished on 15000/54946 queries. users per second: 2332.09"
            ]
          },
          "metadata": {
            "tags": []
          }
        },
        {
          "output_type": "display_data",
          "data": {
            "text/html": [
              "<pre>recommendations finished on 16000/54946 queries. users per second: 2333.6</pre>"
            ],
            "text/plain": [
              "recommendations finished on 16000/54946 queries. users per second: 2333.6"
            ]
          },
          "metadata": {
            "tags": []
          }
        },
        {
          "output_type": "display_data",
          "data": {
            "text/html": [
              "<pre>recommendations finished on 17000/54946 queries. users per second: 2328.83</pre>"
            ],
            "text/plain": [
              "recommendations finished on 17000/54946 queries. users per second: 2328.83"
            ]
          },
          "metadata": {
            "tags": []
          }
        },
        {
          "output_type": "display_data",
          "data": {
            "text/html": [
              "<pre>recommendations finished on 18000/54946 queries. users per second: 2328.79</pre>"
            ],
            "text/plain": [
              "recommendations finished on 18000/54946 queries. users per second: 2328.79"
            ]
          },
          "metadata": {
            "tags": []
          }
        },
        {
          "output_type": "display_data",
          "data": {
            "text/html": [
              "<pre>recommendations finished on 19000/54946 queries. users per second: 2327.38</pre>"
            ],
            "text/plain": [
              "recommendations finished on 19000/54946 queries. users per second: 2327.38"
            ]
          },
          "metadata": {
            "tags": []
          }
        },
        {
          "output_type": "display_data",
          "data": {
            "text/html": [
              "<pre>recommendations finished on 20000/54946 queries. users per second: 2327.21</pre>"
            ],
            "text/plain": [
              "recommendations finished on 20000/54946 queries. users per second: 2327.21"
            ]
          },
          "metadata": {
            "tags": []
          }
        },
        {
          "output_type": "display_data",
          "data": {
            "text/html": [
              "<pre>recommendations finished on 21000/54946 queries. users per second: 2329.82</pre>"
            ],
            "text/plain": [
              "recommendations finished on 21000/54946 queries. users per second: 2329.82"
            ]
          },
          "metadata": {
            "tags": []
          }
        },
        {
          "output_type": "display_data",
          "data": {
            "text/html": [
              "<pre>recommendations finished on 22000/54946 queries. users per second: 2330.3</pre>"
            ],
            "text/plain": [
              "recommendations finished on 22000/54946 queries. users per second: 2330.3"
            ]
          },
          "metadata": {
            "tags": []
          }
        },
        {
          "output_type": "display_data",
          "data": {
            "text/html": [
              "<pre>recommendations finished on 23000/54946 queries. users per second: 2330.98</pre>"
            ],
            "text/plain": [
              "recommendations finished on 23000/54946 queries. users per second: 2330.98"
            ]
          },
          "metadata": {
            "tags": []
          }
        },
        {
          "output_type": "display_data",
          "data": {
            "text/html": [
              "<pre>recommendations finished on 24000/54946 queries. users per second: 2334.39</pre>"
            ],
            "text/plain": [
              "recommendations finished on 24000/54946 queries. users per second: 2334.39"
            ]
          },
          "metadata": {
            "tags": []
          }
        },
        {
          "output_type": "display_data",
          "data": {
            "text/html": [
              "<pre>recommendations finished on 25000/54946 queries. users per second: 2335.49</pre>"
            ],
            "text/plain": [
              "recommendations finished on 25000/54946 queries. users per second: 2335.49"
            ]
          },
          "metadata": {
            "tags": []
          }
        },
        {
          "output_type": "display_data",
          "data": {
            "text/html": [
              "<pre>recommendations finished on 26000/54946 queries. users per second: 2336.14</pre>"
            ],
            "text/plain": [
              "recommendations finished on 26000/54946 queries. users per second: 2336.14"
            ]
          },
          "metadata": {
            "tags": []
          }
        },
        {
          "output_type": "display_data",
          "data": {
            "text/html": [
              "<pre>recommendations finished on 27000/54946 queries. users per second: 2337.22</pre>"
            ],
            "text/plain": [
              "recommendations finished on 27000/54946 queries. users per second: 2337.22"
            ]
          },
          "metadata": {
            "tags": []
          }
        },
        {
          "output_type": "display_data",
          "data": {
            "text/html": [
              "<pre>recommendations finished on 28000/54946 queries. users per second: 2336.58</pre>"
            ],
            "text/plain": [
              "recommendations finished on 28000/54946 queries. users per second: 2336.58"
            ]
          },
          "metadata": {
            "tags": []
          }
        },
        {
          "output_type": "display_data",
          "data": {
            "text/html": [
              "<pre>recommendations finished on 29000/54946 queries. users per second: 2337.89</pre>"
            ],
            "text/plain": [
              "recommendations finished on 29000/54946 queries. users per second: 2337.89"
            ]
          },
          "metadata": {
            "tags": []
          }
        },
        {
          "output_type": "display_data",
          "data": {
            "text/html": [
              "<pre>recommendations finished on 30000/54946 queries. users per second: 2335.31</pre>"
            ],
            "text/plain": [
              "recommendations finished on 30000/54946 queries. users per second: 2335.31"
            ]
          },
          "metadata": {
            "tags": []
          }
        },
        {
          "output_type": "display_data",
          "data": {
            "text/html": [
              "<pre>recommendations finished on 31000/54946 queries. users per second: 2337.9</pre>"
            ],
            "text/plain": [
              "recommendations finished on 31000/54946 queries. users per second: 2337.9"
            ]
          },
          "metadata": {
            "tags": []
          }
        },
        {
          "output_type": "display_data",
          "data": {
            "text/html": [
              "<pre>recommendations finished on 32000/54946 queries. users per second: 2339.9</pre>"
            ],
            "text/plain": [
              "recommendations finished on 32000/54946 queries. users per second: 2339.9"
            ]
          },
          "metadata": {
            "tags": []
          }
        },
        {
          "output_type": "display_data",
          "data": {
            "text/html": [
              "<pre>recommendations finished on 33000/54946 queries. users per second: 2338.27</pre>"
            ],
            "text/plain": [
              "recommendations finished on 33000/54946 queries. users per second: 2338.27"
            ]
          },
          "metadata": {
            "tags": []
          }
        },
        {
          "output_type": "display_data",
          "data": {
            "text/html": [
              "<pre>recommendations finished on 34000/54946 queries. users per second: 2340.76</pre>"
            ],
            "text/plain": [
              "recommendations finished on 34000/54946 queries. users per second: 2340.76"
            ]
          },
          "metadata": {
            "tags": []
          }
        },
        {
          "output_type": "display_data",
          "data": {
            "text/html": [
              "<pre>recommendations finished on 35000/54946 queries. users per second: 2339.11</pre>"
            ],
            "text/plain": [
              "recommendations finished on 35000/54946 queries. users per second: 2339.11"
            ]
          },
          "metadata": {
            "tags": []
          }
        },
        {
          "output_type": "display_data",
          "data": {
            "text/html": [
              "<pre>recommendations finished on 36000/54946 queries. users per second: 2338.65</pre>"
            ],
            "text/plain": [
              "recommendations finished on 36000/54946 queries. users per second: 2338.65"
            ]
          },
          "metadata": {
            "tags": []
          }
        },
        {
          "output_type": "display_data",
          "data": {
            "text/html": [
              "<pre>recommendations finished on 37000/54946 queries. users per second: 2338.6</pre>"
            ],
            "text/plain": [
              "recommendations finished on 37000/54946 queries. users per second: 2338.6"
            ]
          },
          "metadata": {
            "tags": []
          }
        },
        {
          "output_type": "display_data",
          "data": {
            "text/html": [
              "<pre>recommendations finished on 38000/54946 queries. users per second: 2335.25</pre>"
            ],
            "text/plain": [
              "recommendations finished on 38000/54946 queries. users per second: 2335.25"
            ]
          },
          "metadata": {
            "tags": []
          }
        },
        {
          "output_type": "display_data",
          "data": {
            "text/html": [
              "<pre>recommendations finished on 39000/54946 queries. users per second: 2337.08</pre>"
            ],
            "text/plain": [
              "recommendations finished on 39000/54946 queries. users per second: 2337.08"
            ]
          },
          "metadata": {
            "tags": []
          }
        },
        {
          "output_type": "display_data",
          "data": {
            "text/html": [
              "<pre>recommendations finished on 40000/54946 queries. users per second: 2334.32</pre>"
            ],
            "text/plain": [
              "recommendations finished on 40000/54946 queries. users per second: 2334.32"
            ]
          },
          "metadata": {
            "tags": []
          }
        },
        {
          "output_type": "display_data",
          "data": {
            "text/html": [
              "<pre>recommendations finished on 41000/54946 queries. users per second: 2334.06</pre>"
            ],
            "text/plain": [
              "recommendations finished on 41000/54946 queries. users per second: 2334.06"
            ]
          },
          "metadata": {
            "tags": []
          }
        },
        {
          "output_type": "display_data",
          "data": {
            "text/html": [
              "<pre>recommendations finished on 42000/54946 queries. users per second: 2335.89</pre>"
            ],
            "text/plain": [
              "recommendations finished on 42000/54946 queries. users per second: 2335.89"
            ]
          },
          "metadata": {
            "tags": []
          }
        },
        {
          "output_type": "display_data",
          "data": {
            "text/html": [
              "<pre>recommendations finished on 43000/54946 queries. users per second: 2335.63</pre>"
            ],
            "text/plain": [
              "recommendations finished on 43000/54946 queries. users per second: 2335.63"
            ]
          },
          "metadata": {
            "tags": []
          }
        },
        {
          "output_type": "display_data",
          "data": {
            "text/html": [
              "<pre>recommendations finished on 44000/54946 queries. users per second: 2336.55</pre>"
            ],
            "text/plain": [
              "recommendations finished on 44000/54946 queries. users per second: 2336.55"
            ]
          },
          "metadata": {
            "tags": []
          }
        },
        {
          "output_type": "display_data",
          "data": {
            "text/html": [
              "<pre>recommendations finished on 45000/54946 queries. users per second: 2336.77</pre>"
            ],
            "text/plain": [
              "recommendations finished on 45000/54946 queries. users per second: 2336.77"
            ]
          },
          "metadata": {
            "tags": []
          }
        },
        {
          "output_type": "display_data",
          "data": {
            "text/html": [
              "<pre>recommendations finished on 46000/54946 queries. users per second: 2336.31</pre>"
            ],
            "text/plain": [
              "recommendations finished on 46000/54946 queries. users per second: 2336.31"
            ]
          },
          "metadata": {
            "tags": []
          }
        },
        {
          "output_type": "display_data",
          "data": {
            "text/html": [
              "<pre>recommendations finished on 47000/54946 queries. users per second: 2337.42</pre>"
            ],
            "text/plain": [
              "recommendations finished on 47000/54946 queries. users per second: 2337.42"
            ]
          },
          "metadata": {
            "tags": []
          }
        },
        {
          "output_type": "display_data",
          "data": {
            "text/html": [
              "<pre>recommendations finished on 48000/54946 queries. users per second: 2336.15</pre>"
            ],
            "text/plain": [
              "recommendations finished on 48000/54946 queries. users per second: 2336.15"
            ]
          },
          "metadata": {
            "tags": []
          }
        },
        {
          "output_type": "display_data",
          "data": {
            "text/html": [
              "<pre>recommendations finished on 49000/54946 queries. users per second: 2336.25</pre>"
            ],
            "text/plain": [
              "recommendations finished on 49000/54946 queries. users per second: 2336.25"
            ]
          },
          "metadata": {
            "tags": []
          }
        },
        {
          "output_type": "display_data",
          "data": {
            "text/html": [
              "<pre>recommendations finished on 50000/54946 queries. users per second: 2337.13</pre>"
            ],
            "text/plain": [
              "recommendations finished on 50000/54946 queries. users per second: 2337.13"
            ]
          },
          "metadata": {
            "tags": []
          }
        },
        {
          "output_type": "display_data",
          "data": {
            "text/html": [
              "<pre>recommendations finished on 51000/54946 queries. users per second: 2338.41</pre>"
            ],
            "text/plain": [
              "recommendations finished on 51000/54946 queries. users per second: 2338.41"
            ]
          },
          "metadata": {
            "tags": []
          }
        },
        {
          "output_type": "display_data",
          "data": {
            "text/html": [
              "<pre>recommendations finished on 52000/54946 queries. users per second: 2338.73</pre>"
            ],
            "text/plain": [
              "recommendations finished on 52000/54946 queries. users per second: 2338.73"
            ]
          },
          "metadata": {
            "tags": []
          }
        },
        {
          "output_type": "display_data",
          "data": {
            "text/html": [
              "<pre>recommendations finished on 53000/54946 queries. users per second: 2339.11</pre>"
            ],
            "text/plain": [
              "recommendations finished on 53000/54946 queries. users per second: 2339.11"
            ]
          },
          "metadata": {
            "tags": []
          }
        },
        {
          "output_type": "display_data",
          "data": {
            "text/html": [
              "<pre>recommendations finished on 54000/54946 queries. users per second: 2338.51</pre>"
            ],
            "text/plain": [
              "recommendations finished on 54000/54946 queries. users per second: 2338.51"
            ]
          },
          "metadata": {
            "tags": []
          }
        },
        {
          "output_type": "stream",
          "text": [
            "\n",
            "Precision and recall summary statistics by cutoff\n",
            "+--------+---------------------+----------------------+\n",
            "| cutoff |    mean_precision   |     mean_recall      |\n",
            "+--------+---------------------+----------------------+\n",
            "|   1    | 0.11791577184872419 | 0.027745586674153094 |\n",
            "|   2    | 0.10217304262366685 | 0.044985392445464456 |\n",
            "|   3    | 0.09079217170797957 | 0.05738321176563549  |\n",
            "|   4    | 0.08228078477050181 | 0.06762822858877926  |\n",
            "|   5    | 0.07542678265933733 | 0.07636912302090665  |\n",
            "|   6    | 0.06997476310074081 | 0.08339562432843531  |\n",
            "|   7    | 0.06571646967672239 | 0.09015105080729609  |\n",
            "|   8    | 0.06180386197357412 | 0.09608715735050416  |\n",
            "|   9    |   0.05857670359181  | 0.10157558056858364  |\n",
            "|   10   | 0.05566556255232337 | 0.10643829701160386  |\n",
            "+--------+---------------------+----------------------+\n",
            "[10 rows x 3 columns]\n",
            "\n"
          ],
          "name": "stdout"
        }
      ]
    },
    {
      "cell_type": "code",
      "metadata": {
        "id": "fzBTRAScnjSm",
        "colab_type": "code",
        "colab": {
          "base_uri": "https://localhost:8080/",
          "height": 1000
        },
        "outputId": "81465cc2-e2f7-4414-c330-82de258d698e"
      },
      "source": [
        "performance"
      ],
      "execution_count": 125,
      "outputs": [
        {
          "output_type": "execute_result",
          "data": {
            "text/plain": [
              "[{'precision_recall_by_user': Columns:\n",
              "  \tuser_id\tstr\n",
              "  \tcutoff\tint\n",
              "  \tprecision\tfloat\n",
              "  \trecall\tfloat\n",
              "  \tcount\tint\n",
              "  \n",
              "  Rows: 989028\n",
              "  \n",
              "  Data:\n",
              "  +-------------------------------+--------+-----------+--------+-------+\n",
              "  |            user_id            | cutoff | precision | recall | count |\n",
              "  +-------------------------------+--------+-----------+--------+-------+\n",
              "  | b80344d063b5ccb3212f76538f... |   1    |    0.0    |  0.0   |   10  |\n",
              "  | b80344d063b5ccb3212f76538f... |   2    |    0.0    |  0.0   |   10  |\n",
              "  | b80344d063b5ccb3212f76538f... |   3    |    0.0    |  0.0   |   10  |\n",
              "  | b80344d063b5ccb3212f76538f... |   4    |    0.0    |  0.0   |   10  |\n",
              "  | b80344d063b5ccb3212f76538f... |   5    |    0.0    |  0.0   |   10  |\n",
              "  | b80344d063b5ccb3212f76538f... |   6    |    0.0    |  0.0   |   10  |\n",
              "  | b80344d063b5ccb3212f76538f... |   7    |    0.0    |  0.0   |   10  |\n",
              "  | b80344d063b5ccb3212f76538f... |   8    |    0.0    |  0.0   |   10  |\n",
              "  | b80344d063b5ccb3212f76538f... |   9    |    0.0    |  0.0   |   10  |\n",
              "  | b80344d063b5ccb3212f76538f... |   10   |    0.0    |  0.0   |   10  |\n",
              "  +-------------------------------+--------+-----------+--------+-------+\n",
              "  [989028 rows x 5 columns]\n",
              "  Note: Only the head of the SFrame is printed.\n",
              "  You can use print_rows(num_rows=m, num_columns=n) to print more rows and columns.,\n",
              "  'precision_recall_overall': Columns:\n",
              "  \tcutoff\tint\n",
              "  \tprecision\tfloat\n",
              "  \trecall\tfloat\n",
              "  \n",
              "  Rows: 18\n",
              "  \n",
              "  Data:\n",
              "  +--------+----------------------+----------------------+\n",
              "  | cutoff |      precision       |        recall        |\n",
              "  +--------+----------------------+----------------------+\n",
              "  |   1    | 0.030320678484330062 | 0.005681534473725687 |\n",
              "  |   2    | 0.028327812761620504 | 0.010762870160527793 |\n",
              "  |   3    | 0.027299530448075916 | 0.015585432213400469 |\n",
              "  |   4    | 0.025884504786517663 | 0.019735738176379768 |\n",
              "  |   5    | 0.02441670003276051  | 0.02311453577517787  |\n",
              "  |   6    | 0.02317730135041686  | 0.02603988331643383  |\n",
              "  |   7    | 0.02221661787417212  | 0.02912436592524366  |\n",
              "  |   8    | 0.02136643249736103  | 0.03179780365851885  |\n",
              "  |   9    | 0.02061417876945723  | 0.03429552999077505  |\n",
              "  |   10   | 0.019914097477523963 | 0.03673338057962322  |\n",
              "  +--------+----------------------+----------------------+\n",
              "  [18 rows x 3 columns]\n",
              "  Note: Only the head of the SFrame is printed.\n",
              "  You can use print_rows(num_rows=m, num_columns=n) to print more rows and columns.},\n",
              " {'precision_recall_by_user': Columns:\n",
              "  \tuser_id\tstr\n",
              "  \tcutoff\tint\n",
              "  \tprecision\tfloat\n",
              "  \trecall\tfloat\n",
              "  \tcount\tint\n",
              "  \n",
              "  Rows: 989028\n",
              "  \n",
              "  Data:\n",
              "  +-------------------------------+--------+-----------+--------+-------+\n",
              "  |            user_id            | cutoff | precision | recall | count |\n",
              "  +-------------------------------+--------+-----------+--------+-------+\n",
              "  | b80344d063b5ccb3212f76538f... |   1    |    0.0    |  0.0   |   10  |\n",
              "  | b80344d063b5ccb3212f76538f... |   2    |    0.0    |  0.0   |   10  |\n",
              "  | b80344d063b5ccb3212f76538f... |   3    |    0.0    |  0.0   |   10  |\n",
              "  | b80344d063b5ccb3212f76538f... |   4    |    0.0    |  0.0   |   10  |\n",
              "  | b80344d063b5ccb3212f76538f... |   5    |    0.0    |  0.0   |   10  |\n",
              "  | b80344d063b5ccb3212f76538f... |   6    |    0.0    |  0.0   |   10  |\n",
              "  | b80344d063b5ccb3212f76538f... |   7    |    0.0    |  0.0   |   10  |\n",
              "  | b80344d063b5ccb3212f76538f... |   8    |    0.0    |  0.0   |   10  |\n",
              "  | b80344d063b5ccb3212f76538f... |   9    |    0.0    |  0.0   |   10  |\n",
              "  | b80344d063b5ccb3212f76538f... |   10   |    0.0    |  0.0   |   10  |\n",
              "  +-------------------------------+--------+-----------+--------+-------+\n",
              "  [989028 rows x 5 columns]\n",
              "  Note: Only the head of the SFrame is printed.\n",
              "  You can use print_rows(num_rows=m, num_columns=n) to print more rows and columns.,\n",
              "  'precision_recall_overall': Columns:\n",
              "  \tcutoff\tint\n",
              "  \tprecision\tfloat\n",
              "  \trecall\tfloat\n",
              "  \n",
              "  Rows: 18\n",
              "  \n",
              "  Data:\n",
              "  +--------+---------------------+----------------------+\n",
              "  | cutoff |      precision      |        recall        |\n",
              "  +--------+---------------------+----------------------+\n",
              "  |   1    | 0.11791577184872419 | 0.027745586674153052 |\n",
              "  |   2    | 0.10217304262366687 | 0.04498539244546447  |\n",
              "  |   3    |  0.0907921717079795 | 0.057383211765635475 |\n",
              "  |   4    | 0.08228078477050198 | 0.06762822858877866  |\n",
              "  |   5    | 0.07542678265933679 |  0.076369123020907   |\n",
              "  |   6    | 0.06997476310074084 | 0.08339562432843477  |\n",
              "  |   7    | 0.06571646967672251 | 0.09015105080729541  |\n",
              "  |   8    | 0.06180386197357388 |  0.0960871573505044  |\n",
              "  |   9    | 0.05857670359181026 | 0.10157558056858348  |\n",
              "  |   10   | 0.05566556255232331 | 0.10643829701160355  |\n",
              "  +--------+---------------------+----------------------+\n",
              "  [18 rows x 3 columns]\n",
              "  Note: Only the head of the SFrame is printed.\n",
              "  You can use print_rows(num_rows=m, num_columns=n) to print more rows and columns.}]"
            ]
          },
          "metadata": {
            "tags": []
          },
          "execution_count": 125
        }
      ]
    },
    {
      "cell_type": "code",
      "metadata": {
        "id": "E_wRWs1vowca",
        "colab_type": "code",
        "colab": {}
      },
      "source": [
        ""
      ],
      "execution_count": 0,
      "outputs": []
    }
  ]
}